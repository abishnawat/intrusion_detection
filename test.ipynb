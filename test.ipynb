{
 "cells": [
  {
   "cell_type": "code",
   "execution_count": 1,
   "metadata": {},
   "outputs": [
    {
     "name": "stderr",
     "output_type": "stream",
     "text": [
      "Using TensorFlow backend.\n"
     ]
    }
   ],
   "source": [
    "from __future__ import division\n",
    "\n",
    "import pandas\n",
    "import numpy as np\n",
    "from keras.models import Sequential\n",
    "from keras.layers import Dense\n",
    "from keras.layers import LSTM\n",
    "from keras import optimizers\n",
    "from keras import losses\n",
    "from sklearn import preprocessing\n",
    "\n",
    "corrected = \"./data/corrected\"\n",
    "kddcup_data_corrected = \"./data/kddcup.data\"\n",
    "\n",
    "kddcup_data_10_percent_corrected = \"./data/kddcup.data_10_percent_corrected\"\n",
    "kddcup_newtestdata_10_percent_unlabeled = \"./data/kddcup.newtestdata_10_percent_unlabeled\"\n",
    "\n",
    "kddcup_testdata_unlabeled = \"./data/kddcup.testdata.unlabeled\"\n",
    "kddcup_testdata_unlabeled_10_percent = \"./data/kddcup.testdata.unlabeled_10_percent\"\n",
    "\n",
    "correspondence = \"./data/training_attack_types.txt\""
   ]
  },
  {
   "cell_type": "code",
   "execution_count": 2,
   "metadata": {
    "collapsed": true,
    "scrolled": true
   },
   "outputs": [],
   "source": [
    "dct = dict()\n",
    "with open(correspondence, \"r\") as f:\n",
    "    for line in f:\n",
    "        line = line.split(' ')\n",
    "        dct[line[0]] = line[1][:-1]\n",
    "dct[\"normal\"] = \"normal\""
   ]
  },
  {
   "cell_type": "code",
   "execution_count": 3,
   "metadata": {},
   "outputs": [
    {
     "data": {
      "text/plain": [
       "{'dos': 391458, 'normal': 97278, 'probe': 4107, 'r2l': 1126, 'u2r': 52}"
      ]
     },
     "execution_count": 3,
     "metadata": {},
     "output_type": "execute_result"
    }
   ],
   "source": [
    "data = pandas.read_csv(kddcup_data_10_percent_corrected, header=None)\n",
    "data[41].value_counts()\n",
    "statistics = {\"dos\": 0, \"u2r\": 0, \"probe\": 0, \"r2l\": 0, \"normal\": 0}\n",
    "labelling  = {\"dos\": 1, \"u2r\": 2, \"probe\": 3, \"r2l\": 4, \"normal\": 0}\n",
    "\n",
    "for i in range(data.shape[0]):\n",
    "    intrusion_class = dct[data.iat[i, 41][:-1]]\n",
    "    data.iat[i, 41] = labelling[intrusion_class]\n",
    "    statistics[intrusion_class] +=1\n",
    "    \n",
    "statistics"
   ]
  },
  {
   "cell_type": "code",
   "execution_count": 4,
   "metadata": {
    "collapsed": true
   },
   "outputs": [],
   "source": [
    "le = preprocessing.LabelEncoder()\n",
    "need_labeling = [1, 2, 3]\n",
    "\n",
    "for i in need_labeling:\n",
    "    le.fit(data[i])\n",
    "    data[i] = le.transform(data[i])"
   ]
  },
  {
   "cell_type": "code",
   "execution_count": 5,
   "metadata": {},
   "outputs": [
    {
     "name": "stdout",
     "output_type": "stream",
     "text": [
      "<class 'pandas.core.frame.DataFrame'>\n",
      "RangeIndex: 3050 entries, 0 to 3049\n",
      "Data columns (total 42 columns):\n",
      "0     3050 non-null int64\n",
      "1     3050 non-null int64\n",
      "2     3050 non-null int64\n",
      "3     3050 non-null int64\n",
      "4     3050 non-null int64\n",
      "5     3050 non-null int64\n",
      "6     3050 non-null int64\n",
      "7     3050 non-null int64\n",
      "8     3050 non-null int64\n",
      "9     3050 non-null int64\n",
      "10    3050 non-null int64\n",
      "11    3050 non-null int64\n",
      "12    3050 non-null int64\n",
      "13    3050 non-null int64\n",
      "14    3050 non-null int64\n",
      "15    3050 non-null int64\n",
      "16    3050 non-null int64\n",
      "17    3050 non-null int64\n",
      "18    3050 non-null int64\n",
      "19    3050 non-null int64\n",
      "20    3050 non-null int64\n",
      "21    3050 non-null int64\n",
      "22    3050 non-null int64\n",
      "23    3050 non-null int64\n",
      "24    3050 non-null float64\n",
      "25    3050 non-null float64\n",
      "26    3050 non-null float64\n",
      "27    3050 non-null float64\n",
      "28    3050 non-null float64\n",
      "29    3050 non-null float64\n",
      "30    3050 non-null float64\n",
      "31    3050 non-null int64\n",
      "32    3050 non-null int64\n",
      "33    3050 non-null float64\n",
      "34    3050 non-null float64\n",
      "35    3050 non-null float64\n",
      "36    3050 non-null float64\n",
      "37    3050 non-null float64\n",
      "38    3050 non-null float64\n",
      "39    3050 non-null float64\n",
      "40    3050 non-null float64\n",
      "41    3050 non-null object\n",
      "dtypes: float64(15), int64(26), object(1)\n",
      "memory usage: 1000.9+ KB\n"
     ]
    }
   ],
   "source": [
    "n_dos = 500\n",
    "n_r2l = 500\n",
    "n_probe = 500\n",
    "n_normal = 1500\n",
    "n_u2r = 50\n",
    "\n",
    "data_for_training = pandas.DataFrame()\n",
    "data_for_training = data_for_training.append(data[data[41] == labelling['dos']].sample(n_dos), ignore_index=True)\n",
    "data_for_training = data_for_training.append(data[data[41] == labelling['r2l']].sample(n_r2l), ignore_index=True)\n",
    "data_for_training = data_for_training.append(data[data[41] == labelling['probe']].sample(n_probe), ignore_index=True)\n",
    "data_for_training = data_for_training.append(data[data[41] == labelling['u2r']].sample(n_u2r), ignore_index=True)\n",
    "data_for_training = data_for_training.append(data[data[41] == labelling['normal']].sample(n_normal), ignore_index=True)\n",
    "data_for_training.info()"
   ]
  },
  {
   "cell_type": "code",
   "execution_count": 6,
   "metadata": {},
   "outputs": [
    {
     "data": {
      "text/plain": [
       "1    391458\n",
       "0     97278\n",
       "3      4107\n",
       "4      1126\n",
       "2        52\n",
       "Name: 41, dtype: int64"
      ]
     },
     "execution_count": 6,
     "metadata": {},
     "output_type": "execute_result"
    }
   ],
   "source": [
    "test_data = pandas.read_csv(kddcup_data_10_percent_corrected, header=None)\n",
    "\n",
    "for i in range(test_data.shape[0]):\n",
    "    intrusion_class = dct[test_data.iat[i, 41][:-1]]\n",
    "    test_data.iat[i, 41] = labelling[intrusion_class]\n",
    "    \n",
    "need_labeling = [1, 2, 3]\n",
    "\n",
    "for i in need_labeling:\n",
    "    le.fit(test_data[i])\n",
    "    test_data[i] = le.transform(test_data[i])\n",
    "    \n",
    "test_data[41].value_counts()"
   ]
  },
  {
   "cell_type": "code",
   "execution_count": 7,
   "metadata": {
    "collapsed": true
   },
   "outputs": [],
   "source": [
    "min_max_scaler = preprocessing.MinMaxScaler()\n",
    "\n",
    "x_train = data_for_training.as_matrix(range(41))\n",
    "x_train = min_max_scaler.fit_transform(x_train)\n",
    "\n",
    "y_train = data_for_training.as_matrix([41])"
   ]
  },
  {
   "cell_type": "code",
   "execution_count": 8,
   "metadata": {
    "collapsed": true
   },
   "outputs": [],
   "source": [
    "x_test = test_data.as_matrix(range(41))\n",
    "x_test = min_max_scaler.fit_transform(x_test)\n",
    "\n",
    "y_test = test_data.as_matrix([41])"
   ]
  },
  {
   "cell_type": "code",
   "execution_count": 9,
   "metadata": {
    "collapsed": true
   },
   "outputs": [],
   "source": [
    "x_train = np.reshape(x_train, (3050, 1, 41))\n",
    "#y_train = np.reshape(y_train, (3050, 1, 1))\n",
    "y_train = (np.arange(5) == y_train[:,None]).astype(np.int)"
   ]
  },
  {
   "cell_type": "code",
   "execution_count": 16,
   "metadata": {},
   "outputs": [
    {
     "data": {
      "text/plain": [
       "array([[[0, 1, 0, 0, 0]],\n",
       "\n",
       "       [[0, 1, 0, 0, 0]],\n",
       "\n",
       "       [[0, 1, 0, 0, 0]],\n",
       "\n",
       "       ..., \n",
       "       [[1, 0, 0, 0, 0]],\n",
       "\n",
       "       [[1, 0, 0, 0, 0]],\n",
       "\n",
       "       [[1, 0, 0, 0, 0]]])"
      ]
     },
     "execution_count": 16,
     "metadata": {},
     "output_type": "execute_result"
    }
   ],
   "source": [
    "y_train"
   ]
  },
  {
   "cell_type": "code",
   "execution_count": 10,
   "metadata": {
    "collapsed": true
   },
   "outputs": [],
   "source": [
    "hidden_layer_size = 60\n",
    "timestep = 50\n",
    "batch_size = 50\n",
    "epochs = 50\n",
    "learning_rate = 0.001"
   ]
  },
  {
   "cell_type": "code",
   "execution_count": 11,
   "metadata": {},
   "outputs": [
    {
     "name": "stdout",
     "output_type": "stream",
     "text": [
      "Epoch 1/50\n",
      "3050/3050 [==============================] - 0s - loss: 0.1390 - acc: 0.4885     \n",
      "Epoch 2/50\n",
      "3050/3050 [==============================] - 0s - loss: 0.0732 - acc: 0.7302     \n",
      "Epoch 3/50\n",
      "3050/3050 [==============================] - 0s - loss: 0.0327 - acc: 0.9007     \n",
      "Epoch 4/50\n",
      "3050/3050 [==============================] - 0s - loss: 0.0234 - acc: 0.9275     \n",
      "Epoch 5/50\n",
      "3050/3050 [==============================] - 0s - loss: 0.0206 - acc: 0.9348     \n",
      "Epoch 6/50\n",
      "3050/3050 [==============================] - 0s - loss: 0.0190 - acc: 0.9413     \n",
      "Epoch 7/50\n",
      "3050/3050 [==============================] - 0s - loss: 0.0179 - acc: 0.9439     \n",
      "Epoch 8/50\n",
      "3050/3050 [==============================] - 0s - loss: 0.0172 - acc: 0.9430     \n",
      "Epoch 9/50\n",
      "3050/3050 [==============================] - 0s - loss: 0.0158 - acc: 0.9443     \n",
      "Epoch 10/50\n",
      "3050/3050 [==============================] - 0s - loss: 0.0143 - acc: 0.9554     \n",
      "Epoch 11/50\n",
      "3050/3050 [==============================] - 0s - loss: 0.0129 - acc: 0.9607     \n",
      "Epoch 12/50\n",
      "3050/3050 [==============================] - 0s - loss: 0.0123 - acc: 0.9646     \n",
      "Epoch 13/50\n",
      "3050/3050 [==============================] - 0s - loss: 0.0117 - acc: 0.9643     \n",
      "Epoch 14/50\n",
      "3050/3050 [==============================] - 0s - loss: 0.0114 - acc: 0.9649     \n",
      "Epoch 15/50\n",
      "3050/3050 [==============================] - 0s - loss: 0.0112 - acc: 0.9636     \n",
      "Epoch 16/50\n",
      "3050/3050 [==============================] - 0s - loss: 0.0108 - acc: 0.9682     \n",
      "Epoch 17/50\n",
      "3050/3050 [==============================] - 0s - loss: 0.0109 - acc: 0.9679     \n",
      "Epoch 18/50\n",
      "3050/3050 [==============================] - 0s - loss: 0.0103 - acc: 0.9685     \n",
      "Epoch 19/50\n",
      "3050/3050 [==============================] - 0s - loss: 0.0099 - acc: 0.9682     - ETA: 0s - loss: 0.0103 - acc: 0.\n",
      "Epoch 20/50\n",
      "3050/3050 [==============================] - 0s - loss: 0.0098 - acc: 0.9685     \n",
      "Epoch 21/50\n",
      "3050/3050 [==============================] - 0s - loss: 0.0092 - acc: 0.9702     \n",
      "Epoch 22/50\n",
      "3050/3050 [==============================] - 0s - loss: 0.0088 - acc: 0.9715     \n",
      "Epoch 23/50\n",
      "3050/3050 [==============================] - 0s - loss: 0.0086 - acc: 0.9754     \n",
      "Epoch 24/50\n",
      "3050/3050 [==============================] - 0s - loss: 0.0083 - acc: 0.9748     \n",
      "Epoch 25/50\n",
      "3050/3050 [==============================] - 0s - loss: 0.0079 - acc: 0.9748     \n",
      "Epoch 26/50\n",
      "3050/3050 [==============================] - 0s - loss: 0.0075 - acc: 0.9770     \n",
      "Epoch 27/50\n",
      "3050/3050 [==============================] - 0s - loss: 0.0072 - acc: 0.9784     \n",
      "Epoch 28/50\n",
      "3050/3050 [==============================] - 0s - loss: 0.0069 - acc: 0.9793     \n",
      "Epoch 29/50\n",
      "3050/3050 [==============================] - 0s - loss: 0.0068 - acc: 0.9810     \n",
      "Epoch 30/50\n",
      "3050/3050 [==============================] - 0s - loss: 0.0067 - acc: 0.9807     \n",
      "Epoch 31/50\n",
      "3050/3050 [==============================] - 0s - loss: 0.0067 - acc: 0.9816     \n",
      "Epoch 32/50\n",
      "3050/3050 [==============================] - 0s - loss: 0.0064 - acc: 0.9826     \n",
      "Epoch 33/50\n",
      "3050/3050 [==============================] - 0s - loss: 0.0064 - acc: 0.9826     \n",
      "Epoch 34/50\n",
      "3050/3050 [==============================] - 0s - loss: 0.0062 - acc: 0.9843     \n",
      "Epoch 35/50\n",
      "3050/3050 [==============================] - 0s - loss: 0.0061 - acc: 0.9839     \n",
      "Epoch 36/50\n",
      "3050/3050 [==============================] - 0s - loss: 0.0061 - acc: 0.9833     \n",
      "Epoch 37/50\n",
      "3050/3050 [==============================] - 0s - loss: 0.0060 - acc: 0.9836     \n",
      "Epoch 38/50\n",
      "3050/3050 [==============================] - 0s - loss: 0.0058 - acc: 0.9849     \n",
      "Epoch 39/50\n",
      "3050/3050 [==============================] - 0s - loss: 0.0059 - acc: 0.9826     \n",
      "Epoch 40/50\n",
      "3050/3050 [==============================] - 0s - loss: 0.0057 - acc: 0.9839     \n",
      "Epoch 41/50\n",
      "3050/3050 [==============================] - 0s - loss: 0.0054 - acc: 0.9852     \n",
      "Epoch 42/50\n",
      "3050/3050 [==============================] - 0s - loss: 0.0055 - acc: 0.9843     \n",
      "Epoch 43/50\n",
      "3050/3050 [==============================] - 0s - loss: 0.0055 - acc: 0.9856     \n",
      "Epoch 44/50\n",
      "3050/3050 [==============================] - 0s - loss: 0.0053 - acc: 0.9856     \n",
      "Epoch 45/50\n",
      "3050/3050 [==============================] - 0s - loss: 0.0053 - acc: 0.9849     \n",
      "Epoch 46/50\n",
      "3050/3050 [==============================] - 0s - loss: 0.0053 - acc: 0.9862     \n",
      "Epoch 47/50\n",
      "3050/3050 [==============================] - 0s - loss: 0.0051 - acc: 0.9856     \n",
      "Epoch 48/50\n",
      "3050/3050 [==============================] - 0s - loss: 0.0054 - acc: 0.9856     \n",
      "Epoch 49/50\n",
      "3050/3050 [==============================] - 0s - loss: 0.0053 - acc: 0.9856     \n",
      "Epoch 50/50\n",
      "3050/3050 [==============================] - 0s - loss: 0.0048 - acc: 0.9882     \n"
     ]
    },
    {
     "data": {
      "text/plain": [
       "<keras.callbacks.History at 0x7f162a23a8d0>"
      ]
     },
     "execution_count": 11,
     "metadata": {},
     "output_type": "execute_result"
    }
   ],
   "source": [
    "model = Sequential()\n",
    "model.add(LSTM(hidden_layer_size, input_shape=x_train.shape[1:], return_sequences=True))\n",
    "model.add(LSTM(hidden_layer_size, return_sequences=True))\n",
    "model.add(Dense(5, activation='softmax'))\n",
    "\n",
    "sgd = optimizers.Adam(lr=learning_rate)\n",
    "model.compile(loss=losses.mean_squared_error,\n",
    "              optimizer=sgd,\n",
    "              metrics=['accuracy'])\n",
    "\n",
    "model.fit(x_train, y_train, batch_size=batch_size, epochs=epochs)\n",
    "#score = model.evaluate(x_test, y_test, batch_size=)"
   ]
  },
  {
   "cell_type": "code",
   "execution_count": 12,
   "metadata": {
    "collapsed": true
   },
   "outputs": [],
   "source": [
    "predicted = model.predict(np.reshape(x_test, (x_test.shape[0], 1, 41)))"
   ]
  },
  {
   "cell_type": "code",
   "execution_count": 13,
   "metadata": {
    "collapsed": true
   },
   "outputs": [],
   "source": [
    "def accuracy(true, pred):\n",
    "    return np.sum(np.array(map(np.argmax,true)) == map(np.argmax, pred))/true.shape[0]"
   ]
  },
  {
   "cell_type": "code",
   "execution_count": 14,
   "metadata": {},
   "outputs": [
    {
     "name": "stdout",
     "output_type": "stream",
     "text": [
      "0.990042933398\n"
     ]
    }
   ],
   "source": [
    "true = (np.arange(5) == y_test[:,None]).astype(np.int)\n",
    "acc = accuracy(predicted, true)\n",
    "print acc"
   ]
  },
  {
   "cell_type": "code",
   "execution_count": null,
   "metadata": {
    "collapsed": true
   },
   "outputs": [],
   "source": []
  }
 ],
 "metadata": {
  "anaconda-cloud": {},
  "kernelspec": {
   "display_name": "tensorflow",
   "language": "python",
   "name": "tensorflow"
  },
  "language_info": {
   "codemirror_mode": {
    "name": "ipython",
    "version": 3
   },
   "file_extension": ".py",
   "mimetype": "text/x-python",
   "name": "python",
   "nbconvert_exporter": "python",
   "pygments_lexer": "ipython3",
   "version": "3.6.2"
  }
 },
 "nbformat": 4,
 "nbformat_minor": 2
}
