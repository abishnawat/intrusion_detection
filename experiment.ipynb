{
 "cells": [
  {
   "cell_type": "code",
   "execution_count": 1,
   "metadata": {},
   "outputs": [],
   "source": [
    "from EDA_preprocessing import preprocess_data\n",
    "from sklearn.metrics import f1_score, classification_report\n",
    "\n",
    "corrected = \"./data/corrected\"\n",
    "kddcup_data = \"./data/kddcup.data\"\n",
    "\n",
    "kddcup_data_10_percent_corrected = \"./data/kddcup.data_10_percent_corrected\"\n",
    "kddcup_newtestdata_10_percent_unlabeled = \"./data/kddcup.newtestdata_10_percent_unlabeled\"\n",
    "\n",
    "kddcup_testdata_unlabeled = \"./data/kddcup.testdata.unlabeled\"\n",
    "kddcup_testdata_unlabeled_10_percent = \"./data/kddcup.testdata.unlabeled_10_percent\"\n",
    "\n",
    "correspondence = \"./data/training_attack_types.txt\""
   ]
  },
  {
   "cell_type": "code",
   "execution_count": 47,
   "metadata": {},
   "outputs": [],
   "source": [
    "import pandas as pd\n",
    "\n",
    "X_test_matrix = pd.read_csv('X_train.csv', header=0, index_col=0).as_matrix()\n",
    "X_train_matrix = pd.read_csv(\"X_test.csv\", header=0, index_col=0).as_matrix()\n",
    "y_train_vector = pd.Series.from_csv(\"y_test.csv\", header=None, index_col=0).as_matrix()\n",
    "y_test_vector = pd.Series.from_csv('y_train.csv', header=None, index_col=0).as_matrix()"
   ]
  },
  {
   "cell_type": "code",
   "execution_count": 2,
   "metadata": {},
   "outputs": [],
   "source": [
    "X_train_raw, y_train_raw, X_test_raw, y_test_raw, cat_features = preprocess_data(kddcup_data,\n",
    "                                                   kddcup_testdata_unlabeled_10_percent,\n",
    "                                                   \"./data/headers\",\n",
    "                                                   \"./data/training_attack_types.txt\")"
   ]
  },
  {
   "cell_type": "code",
   "execution_count": null,
   "metadata": {},
   "outputs": [],
   "source": [
    "X_train_matrix_raw = X_test.as_matrix()\n",
    "X_test_matrix_raw = X_train.as_matrix()"
   ]
  },
  {
   "cell_type": "code",
   "execution_count": 4,
   "metadata": {},
   "outputs": [],
   "source": [
    "y_train_vector_raw = y_test_raw.as_matrix()\n",
    "y_test_vector_raw = y_train_raw.as_matrix()"
   ]
  },
  {
   "cell_type": "markdown",
   "metadata": {},
   "source": [
    "# Model 1"
   ]
  },
  {
   "cell_type": "code",
   "execution_count": 69,
   "metadata": {},
   "outputs": [],
   "source": [
    "import numpy as np\n",
    "from keras.models import Sequential\n",
    "from keras.layers import Dense\n",
    "from keras.layers import Dropout\n",
    "from keras import optimizers\n",
    "from keras import losses\n",
    "\n",
    "batch_size = 64\n",
    "epochs = 20\n",
    "learning_rate = 0.001\n",
    "\n",
    "model1 = Sequential()\n",
    "model1.add(Dense(128, input_shape=(1, X_train_matrix.shape[1])))\n",
    "model1.add(Dense(256))\n",
    "model1.add(Dropout(0.1))\n",
    "model1.add(Dense(5, activation='softmax'))"
   ]
  },
  {
   "cell_type": "code",
   "execution_count": 70,
   "metadata": {},
   "outputs": [],
   "source": [
    "y_train_1 = (np.arange(5) == y_train_vector[:,None]).astype(np.int).reshape(-1, 1, 5)\n",
    "y_test_1 = (np.arange(5) == y_test_vector[:,None]).astype(np.int).reshape(-1, 1, 5)"
   ]
  },
  {
   "cell_type": "code",
   "execution_count": 71,
   "metadata": {},
   "outputs": [],
   "source": [
    "from custom_metrics import f1\n",
    "\n",
    "adam = optimizers.Adam(lr=learning_rate, decay=1e-5)\n",
    "model1.compile(loss=losses.categorical_crossentropy,\n",
    "               optimizer=adam,\n",
    "               metrics=['accuracy', f1])"
   ]
  },
  {
   "cell_type": "code",
   "execution_count": 72,
   "metadata": {},
   "outputs": [
    {
     "name": "stdout",
     "output_type": "stream",
     "text": [
      "Epoch 1/20\n",
      "247247/247247 [==============================] - 13s - loss: 0.0352 - acc: 0.9918 - f1: nan    \n",
      "Epoch 2/20\n",
      "247247/247247 [==============================] - 13s - loss: 0.0286 - acc: 0.9929 - f1: 0.9929    \n",
      "Epoch 3/20\n",
      "247247/247247 [==============================] - 12s - loss: 0.0275 - acc: 0.9932 - f1: 0.9932    \n",
      "Epoch 4/20\n",
      "247247/247247 [==============================] - 12s - loss: 0.0268 - acc: 0.9932 - f1: 0.9932    \n",
      "Epoch 5/20\n",
      "247247/247247 [==============================] - 12s - loss: 0.0257 - acc: 0.9933 - f1: 0.9933    \n",
      "Epoch 6/20\n",
      "247247/247247 [==============================] - 12s - loss: 0.0246 - acc: 0.9934 - f1: 0.9934    \n",
      "Epoch 7/20\n",
      "247247/247247 [==============================] - 12s - loss: 0.0243 - acc: 0.9937 - f1: 0.9936    \n",
      "Epoch 8/20\n",
      "247247/247247 [==============================] - 12s - loss: 0.0238 - acc: 0.9937 - f1: 0.9937    \n",
      "Epoch 9/20\n",
      "247247/247247 [==============================] - 12s - loss: 0.0236 - acc: 0.9938 - f1: 0.9938    \n",
      "Epoch 10/20\n",
      "247247/247247 [==============================] - 13s - loss: 0.0235 - acc: 0.9939 - f1: 0.9939    \n",
      "Epoch 11/20\n",
      "247247/247247 [==============================] - 12s - loss: 0.0231 - acc: 0.9938 - f1: 0.9939    \n",
      "Epoch 12/20\n",
      "247247/247247 [==============================] - 13s - loss: 0.0230 - acc: 0.9940 - f1: 0.9940    \n",
      "Epoch 13/20\n",
      "247247/247247 [==============================] - 13s - loss: 0.0229 - acc: 0.9939 - f1: 0.9940    \n",
      "Epoch 14/20\n",
      "247247/247247 [==============================] - 12s - loss: 0.0228 - acc: 0.9940 - f1: 0.9940    \n",
      "Epoch 15/20\n",
      "247247/247247 [==============================] - 12s - loss: 0.0227 - acc: 0.9939 - f1: 0.9939    \n",
      "Epoch 16/20\n",
      "247247/247247 [==============================] - 12s - loss: 0.0226 - acc: 0.9941 - f1: 0.9941    \n",
      "Epoch 17/20\n",
      "247247/247247 [==============================] - 13s - loss: 0.0224 - acc: 0.9940 - f1: 0.9940    \n",
      "Epoch 18/20\n",
      "247247/247247 [==============================] - 13s - loss: 0.0224 - acc: 0.9939 - f1: 0.9940    \n",
      "Epoch 19/20\n",
      "247247/247247 [==============================] - 13s - loss: 0.0223 - acc: 0.9940 - f1: 0.9940    \n",
      "Epoch 20/20\n",
      "247247/247247 [==============================] - 13s - loss: 0.0224 - acc: 0.9940 - f1: 0.9941    \n"
     ]
    }
   ],
   "source": [
    "history = model1.fit(np.reshape(X_train_matrix, (-1, 1, 37)), y_train_1, batch_size=batch_size, epochs=epochs)#,\n",
    "                    #validation_data=(np.reshape(X_test_matrix, (-1, 1, 37)), y_test_1), )#, verbose=False)"
   ]
  },
  {
   "cell_type": "code",
   "execution_count": 73,
   "metadata": {
    "scrolled": true
   },
   "outputs": [
    {
     "name": "stdout",
     "output_type": "stream",
     "text": [
      "             precision    recall  f1-score   support\n",
      "\n",
      "     normal     0.9931    0.9987    0.9959    625708\n",
      "       prop     0.9464    0.7446    0.8335     10619\n",
      "        dos     0.9973    0.9940    0.9956    190582\n",
      "        u2r     0.8462    0.2619    0.4000        42\n",
      "        r2l     0.5110    0.1185    0.1923       785\n",
      "\n",
      "avg / total     0.9930    0.9935    0.6835    827736\n",
      "\n"
     ]
    }
   ],
   "source": [
    "y_pred = model1.predict(X_test_matrix.reshape(-1, 1, 37), batch_size=batch_size)\n",
    "target_names = ['normal','prop','dos','u2r','r2l']\n",
    "y_pred = np.argmax(y_pred, axis=2)\n",
    "print(scorer.classification_report(y_test_vector, y_pred, target_names=target_names, digits=4))"
   ]
  },
  {
   "cell_type": "code",
   "execution_count": 53,
   "metadata": {},
   "outputs": [],
   "source": [
    "import matplotlib.pyplot as plt\n",
    "# summarize history for accuracy\n",
    "plt.plot(history.history['acc'])\n",
    "plt.plot(history.history['val_acc'])\n",
    "\n",
    "plt.title('model accuracy')\n",
    "plt.ylabel('accuracy')\n",
    "plt.xlabel('epoch')\n",
    "plt.legend(['train', 'test'], loc='upper left')\n",
    "plt.show()"
   ]
  },
  {
   "cell_type": "code",
   "execution_count": 52,
   "metadata": {},
   "outputs": [
    {
     "data": {
      "image/png": "[encoded data removed]",
      "text/plain": [
       "<matplotlib.figure.Figure at 0x7f40c3cbef28>"
      ]
     },
     "metadata": {},
     "output_type": "display_data"
    }
   ],
   "source": [
    "import matplotlib.pyplot as plt\n",
    "# summarize history for f1\n",
    "plt.plot(history.history['f1'])\n",
    "plt.plot(history.history['val_f1'])\n",
    "plt.title('model f1')\n",
    "plt.ylabel('f1')\n",
    "plt.xlabel('epoch')\n",
    "plt.legend(['train', 'test'], loc='upper left')\n",
    "plt.show()"
   ]
  },
  {
   "cell_type": "code",
   "execution_count": 53,
   "metadata": {},
   "outputs": [
    {
     "data": {
      "image/png": "[encoded data removed]",
      "text/plain": [
       "<matplotlib.figure.Figure at 0x7f40c3b5c5f8>"
      ]
     },
     "metadata": {},
     "output_type": "display_data"
    }
   ],
   "source": [
    "# summarize history for loss\n",
    "plt.plot(history.history['loss'])\n",
    "plt.plot(history.history['val_loss'])\n",
    "plt.title('model loss')\n",
    "plt.ylabel('loss')\n",
    "plt.xlabel('epoch')\n",
    "plt.legend(['train', 'test'], loc='upper left')\n",
    "plt.show()"
   ]
  },
  {
   "cell_type": "markdown",
   "metadata": {},
   "source": [
    "# Model 2. Cat boost"
   ]
  },
  {
   "cell_type": "code",
   "execution_count": null,
   "metadata": {},
   "outputs": [],
   "source": [
    "import numpy as np\n",
    "from catboost import CatBoostClassifier, CatboostIpythonWidget\n",
    "# specify the training parameters \n",
    "model = CatBoostClassifier(iterations=50, depth=10, learning_rate=1,\n",
    "                           loss_function='MultiClass', calc_feature_importance=True)\n",
    "#train the model\n",
    "model.fit(X_train_matrix_raw, y_train_vector_raw, cat_features=cat_features)\n",
    "#model.fit(X_train_matrix, y_train_vector, eval_set=(X_test_matrix_raw, y_test_vector_raw))\n",
    "#make the prediction using the resulting model"
   ]
  },
  {
   "cell_type": "code",
   "execution_count": 7,
   "metadata": {
    "scrolled": true
   },
   "outputs": [],
   "source": [
    "preds_class = model.predict(X_test_matrix_raw)"
   ]
  },
  {
   "cell_type": "code",
   "execution_count": 26,
   "metadata": {},
   "outputs": [
    {
     "name": "stdout",
     "output_type": "stream",
     "text": [
      "Using matplotlib backend: TkAgg\n",
      "             precision    recall  f1-score   support\n",
      "\n",
      "     normal     0.9996    0.9998    0.9997    625708\n",
      "       prop     0.9944    0.9885    0.9915     10619\n",
      "        dos     0.9998    0.9997    0.9997    190582\n",
      "        u2r     0.8947    0.4048    0.5574        42\n",
      "        r2l     0.9368    0.9057    0.9210       785\n",
      "\n",
      "avg / total     0.9995    0.9995    0.9995    827736\n",
      "\n"
     ]
    },
    {
     "data": {
      "text/plain": [
       "<matplotlib.axes._subplots.AxesSubplot at 0x7f0fb67f49e8>"
      ]
     },
     "execution_count": 26,
     "metadata": {},
     "output_type": "execute_result"
    }
   ],
   "source": [
    "import matplotlib\n",
    "%matplotlib\n",
    "import seaborn as sns\n",
    "target_names = ['normal','prop','dos','u2r','r2l']\n",
    "print(classification_report(y_test_vector_raw, preds_class, target_names=target_names, digits=4))\n",
    "labels = X_train_raw.columns\n",
    "stats = model.get_feature_importance(X=X_test_matrix_raw,\n",
    "                       y=y_test_vector_raw,\n",
    "                       cat_features=cat_features,\n",
    "                       thread_count=2,\n",
    "                       fstr_type='FeatureImportance')\n",
    "sns.barplot(x=np.sort([i for i in stats]),y=[i for i in labels])"
   ]
  },
  {
   "cell_type": "code",
   "execution_count": 39,
   "metadata": {},
   "outputs": [
    {
     "name": "stdout",
     "output_type": "stream",
     "text": [
      "             precision    recall  f1-score   support\n",
      "\n",
      "     normal     0.9996    0.9998    0.9997    625708\n",
      "       prop     0.9944    0.9885    0.9915     10619\n",
      "        dos     0.9998    0.9997    0.9997    190582\n",
      "        u2r     0.8947    0.4048    0.5574        42\n",
      "        r2l     0.9368    0.9057    0.9210       785\n",
      "\n",
      "avg / total     0.9995    0.9995    0.8938    827736\n",
      "\n"
     ]
    }
   ],
   "source": [
    "import scorer\n",
    "print(scorer.classification_report(y_test_vector_raw, preds_class, target_names=target_names, digits=4))"
   ]
  }
 ],
 "metadata": {
  "kernelspec": {
   "display_name": "Python3(dm)",
   "language": "python",
   "name": "py3dm"
  },
  "language_info": {
   "codemirror_mode": {
    "name": "ipython",
    "version": 3
   },
   "file_extension": ".py",
   "mimetype": "text/x-python",
   "name": "python",
   "nbconvert_exporter": "python",
   "pygments_lexer": "ipython3",
   "version": "3.6.2"
  }
 },
 "nbformat": 4,
 "nbformat_minor": 2
}
