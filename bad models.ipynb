{
 "cells": [
  {
   "cell_type": "code",
   "execution_count": 1,
   "metadata": {},
   "outputs": [],
   "source": [
    "from EDA_preprocessing import preprocess_data\n",
    "\n",
    "corrected = \"./data/corrected\"\n",
    "kddcup_data =  \"./data/kddcup.data.corrected\"\n",
    "\n",
    "kddcup_data_10_percent_corrected = \"./data/kddcup.data_10_percent_corrected\"\n",
    "kddcup_newtestdata_10_percent_unlabeled = \"./data/kddcup.newtestdata_10_percent_unlabeled\"\n",
    "\n",
    "kddcup_testdata_unlabeled = \"./data/kddcup.testdata.unlabeled\"\n",
    "kddcup_testdata_unlabeled_10_percent = \"./data/kddcup.testdata.unlabeled_10_percent\"\n",
    "\n",
    "correspondence = \"./data/training_attack_types.txt\""
   ]
  },
  {
   "cell_type": "code",
   "execution_count": null,
   "metadata": {},
   "outputs": [],
   "source": [
    "#%%notify\n",
    "X_train, y_train, X_test, y_test = preprocess_data(kddcup_data,\n",
    "                                                   kddcup_testdata_unlabeled_10_percent,\n",
    "                                                   \"./data/headers\",\n",
    "                                                   \"./data/training_attack_types.txt\")"
   ]
  },
  {
   "cell_type": "code",
   "execution_count": null,
   "metadata": {},
   "outputs": [],
   "source": [
    "X_train.to_csv('X_train.csv')\n",
    "X_test.to_csv(\"X_test.csv\")\n",
    "y_train.to_csv(\"y_train.csv\")\n",
    "y_test.to_csv('y_test.csv')"
   ]
  },
  {
   "cell_type": "code",
   "execution_count": 1,
   "metadata": {},
   "outputs": [],
   "source": [
    "from sklearn.naive_bayes import GaussianNB\n",
    "from sklearn.metrics import f1_score, accuracy_score\n",
    "import numpy as np\n",
    "from scorer import classification_report\n",
    "import pandas as pd\n"
   ]
  },
  {
   "cell_type": "code",
   "execution_count": 2,
   "metadata": {},
   "outputs": [],
   "source": [
    "\n",
    "X_test = pd.read_csv('X_train.csv', header=0, index_col=0)\n",
    "X_train = pd.read_csv(\"X_test.csv\", header=0, index_col=0)\n",
    "y_train = pd.Series.from_csv(\"y_test.csv\", header=None, index_col=0)\n",
    "y_test = pd.Series.from_csv('y_train.csv', header=None, index_col=0)\n",
    "\n",
    "target_names = ['normal', 'probing', 'dos','u2r' ,'r2l']"
   ]
  },
  {
   "cell_type": "code",
   "execution_count": 3,
   "metadata": {},
   "outputs": [
    {
     "name": "stdout",
     "output_type": "stream",
     "text": [
      "(247247, 37)\n",
      "(247247,)\n",
      "(827736, 37)\n",
      "(827736,)\n"
     ]
    }
   ],
   "source": [
    "print(X_train.shape)\n",
    "print(y_train.shape)\n",
    "print(X_test.shape)\n",
    "print(y_test.shape)"
   ]
  },
  {
   "cell_type": "code",
   "execution_count": 4,
   "metadata": {},
   "outputs": [],
   "source": [
    "from sklearn.naive_bayes import GaussianNB\n",
    "from sklearn.metrics import f1_score, accuracy_score\n",
    "import numpy as np"
   ]
  },
  {
   "cell_type": "code",
   "execution_count": 5,
   "metadata": {},
   "outputs": [
    {
     "name": "stdout",
     "output_type": "stream",
     "text": [
      "             precision    recall  f1-score   support\n",
      "\n",
      "     normal     0.9990    0.5197    0.6837    625708\n",
      "    probing     0.0891    0.9857    0.1633     10619\n",
      "        dos     0.9919    0.9852    0.9886    190582\n",
      "        u2r     0.0001    0.6429    0.0003        42\n",
      "        r2l     0.0289    0.4917    0.0546       785\n",
      "\n",
      "avg / total     0.9847    0.6328    0.3781    827736\n",
      "\n"
     ]
    }
   ],
   "source": [
    "clf = GaussianNB()\n",
    "clf.fit(X_train, y_train)\n",
    "\n",
    "predict = clf.predict(X_test)\n",
    "\n",
    "print (classification_report(y_test, predict, digits=4, target_names=target_names))"
   ]
  },
  {
   "cell_type": "code",
   "execution_count": 6,
   "metadata": {},
   "outputs": [],
   "source": [
    "from sklearn.svm import SVC\n",
    "from sklearn.model_selection import GridSearchCV\n",
    "from sklearn.metrics import make_scorer"
   ]
  },
  {
   "cell_type": "code",
   "execution_count": 7,
   "metadata": {},
   "outputs": [
    {
     "name": "stdout",
     "output_type": "stream",
     "text": [
      "             precision    recall  f1-score   support\n",
      "\n",
      "     normal     0.9930    0.9989    0.9960    625708\n",
      "    probing     0.9671    0.7633    0.8532     10619\n",
      "        dos     0.9975    0.9939    0.9957    190582\n",
      "        u2r     0.0000    0.0000    0.0000        42\n",
      "        r2l     0.0000    0.0000    0.0000       785\n",
      "\n",
      "avg / total     0.9927    0.9938    0.5690    827736\n",
      "\n"
     ]
    },
    {
     "name": "stderr",
     "output_type": "stream",
     "text": [
      "/usr/local/lib/python2.7/dist-packages/sklearn/metrics/classification.py:1113: UndefinedMetricWarning: Precision and F-score are ill-defined and being set to 0.0 in labels with no predicted samples.\n",
      "  'precision', 'predicted', average, warn_for)\n",
      "/usr/local/lib/python2.7/dist-packages/sklearn/metrics/classification.py:1113: UndefinedMetricWarning: F-score is ill-defined and being set to 0.0 in labels with no predicted samples.\n",
      "  'precision', 'predicted', average, warn_for)\n"
     ]
    }
   ],
   "source": [
    "clf = SVC(kernel='linear')\n",
    "clf.fit(X_train, y_train)\n",
    "\n",
    "predict = clf.predict(X_test)\n",
    "\n",
    "print (classification_report(y_test, predict, digits=4, target_names=target_names))"
   ]
  },
  {
   "cell_type": "code",
   "execution_count": 8,
   "metadata": {},
   "outputs": [
    {
     "name": "stdout",
     "output_type": "stream",
     "text": [
      "Fitting 3 folds for each of 20 candidates, totalling 60 fits\n",
      "[CV] kernel=rbf, C=0.1 ...............................................\n",
      "[CV] kernel=rbf, C=0.1 ...............................................\n",
      "[CV] ................................ kernel=rbf, C=0.1, total=   1.3s\n",
      "[CV] kernel=rbf, C=0.1 ...............................................\n",
      "[CV] ................................ kernel=rbf, C=0.1, total=   1.4s\n",
      "[CV] kernel=poly, C=0.1 ..............................................\n",
      "[CV] ................................ kernel=rbf, C=0.1, total=   0.8s\n",
      "[CV] kernel=poly, C=0.1 ..............................................\n",
      "[CV] ............................... kernel=poly, C=0.1, total=   2.2s\n",
      "[CV] kernel=poly, C=0.1 ..............................................\n",
      "[CV] ............................... kernel=poly, C=0.1, total=   2.1s\n",
      "[CV] kernel=sigmoid, C=0.1 ...........................................\n",
      "[CV] ............................ kernel=sigmoid, C=0.1, total=   1.1s\n",
      "[CV] kernel=sigmoid, C=0.1 ...........................................\n",
      "[CV] ............................... kernel=poly, C=0.1, total=   2.3s\n",
      "[CV] kernel=sigmoid, C=0.1 ...........................................\n",
      "[CV] ............................ kernel=sigmoid, C=0.1, total=   1.2s\n",
      "[CV] kernel=linear, C=0.1 ............................................\n",
      "[CV] ............................. kernel=linear, C=0.1, total=   0.2s\n",
      "[CV] kernel=linear, C=0.1 ............................................\n",
      "[CV] ............................ kernel=sigmoid, C=0.1, total=   1.1s\n",
      "[CV] kernel=linear, C=0.1 ............................................\n",
      "[CV] ............................. kernel=linear, C=0.1, total=   0.2s\n",
      "[CV] kernel=rbf, C=1 .................................................\n",
      "[CV] ............................. kernel=linear, C=0.1, total=   0.2s\n",
      "[CV] kernel=rbf, C=1 .................................................\n",
      "[CV] .................................. kernel=rbf, C=1, total=   0.4s\n",
      "[CV] kernel=rbf, C=1 .................................................\n",
      "[CV] .................................. kernel=rbf, C=1, total=   0.4s\n",
      "[CV] kernel=poly, C=1 ................................................\n",
      "[CV] .................................. kernel=rbf, C=1, total=   0.4s\n",
      "[CV] kernel=poly, C=1 ................................................\n",
      "[CV] ................................. kernel=poly, C=1, total=   2.6s\n",
      "[CV] kernel=poly, C=1 ................................................\n",
      "[CV] ................................. kernel=poly, C=1, total=   2.5s\n",
      "[CV] kernel=sigmoid, C=1 .............................................\n",
      "[CV] .............................. kernel=sigmoid, C=1, total=   0.5s\n",
      "[CV] kernel=sigmoid, C=1 .............................................\n",
      "[CV] .............................. kernel=sigmoid, C=1, total=   0.5s\n",
      "[CV] kernel=sigmoid, C=1 .............................................\n",
      "[CV] .............................. kernel=sigmoid, C=1, total=   0.5s\n",
      "[CV] kernel=linear, C=1 ..............................................\n",
      "[CV] ............................... kernel=linear, C=1, total=   0.2s\n",
      "[CV] kernel=linear, C=1 ..............................................\n",
      "[CV] ............................... kernel=linear, C=1, total=   0.2s\n",
      "[CV] kernel=linear, C=1 ..............................................\n",
      "[CV] ............................... kernel=linear, C=1, total=   0.2s\n",
      "[CV] kernel=rbf, C=5 .................................................\n",
      "[CV] ................................. kernel=poly, C=1, total=   2.3s\n",
      "[CV] kernel=rbf, C=5 .................................................\n",
      "[CV] .................................. kernel=rbf, C=5, total=   0.3s\n",
      "[CV] kernel=rbf, C=5 .................................................\n",
      "[CV] .................................. kernel=rbf, C=5, total=   0.3s\n",
      "[CV] kernel=poly, C=5 ................................................\n",
      "[CV] .................................. kernel=rbf, C=5, total=   0.3s\n",
      "[CV] kernel=poly, C=5 ................................................\n",
      "[CV] ................................. kernel=poly, C=5, total=   0.9s\n",
      "[CV] kernel=poly, C=5 ................................................\n",
      "[CV] ................................. kernel=poly, C=5, total=   1.0s\n",
      "[CV] kernel=sigmoid, C=5 .............................................\n",
      "[CV] .............................. kernel=sigmoid, C=5, total=   0.3s\n",
      "[CV] kernel=sigmoid, C=5 .............................................\n",
      "[CV] ................................. kernel=poly, C=5, total=   0.8s\n",
      "[CV] kernel=sigmoid, C=5 .............................................\n",
      "[CV] .............................. kernel=sigmoid, C=5, total=   0.3s\n",
      "[CV] kernel=linear, C=5 ..............................................\n",
      "[CV] ............................... kernel=linear, C=5, total=   0.2s\n",
      "[CV] kernel=linear, C=5 ..............................................\n",
      "[CV] .............................. kernel=sigmoid, C=5, total=   0.3s\n",
      "[CV] kernel=linear, C=5 ..............................................\n",
      "[CV] ............................... kernel=linear, C=5, total=   0.2s\n",
      "[CV] kernel=rbf, C=10 ................................................\n",
      "[CV] ............................... kernel=linear, C=5, total=   0.2s\n",
      "[CV] kernel=rbf, C=10 ................................................\n",
      "[CV] ................................. kernel=rbf, C=10, total=   0.2s\n",
      "[CV] kernel=rbf, C=10 ................................................\n",
      "[CV] ................................. kernel=rbf, C=10, total=   0.2s\n",
      "[CV] kernel=poly, C=10 ...............................................\n"
     ]
    },
    {
     "name": "stderr",
     "output_type": "stream",
     "text": [
      "[Parallel(n_jobs=2)]: Done  37 tasks      | elapsed:   23.2s\n"
     ]
    },
    {
     "name": "stdout",
     "output_type": "stream",
     "text": [
      "[CV] ................................. kernel=rbf, C=10, total=   0.2s\n",
      "[CV] kernel=poly, C=10 ...............................................\n",
      "[CV] ................................ kernel=poly, C=10, total=   0.5s\n",
      "[CV] kernel=poly, C=10 ...............................................\n",
      "[CV] ................................ kernel=poly, C=10, total=   0.5s\n",
      "[CV] kernel=sigmoid, C=10 ............................................\n",
      "[CV] ............................. kernel=sigmoid, C=10, total=   0.3s\n",
      "[CV] kernel=sigmoid, C=10 ............................................\n",
      "[CV] ................................ kernel=poly, C=10, total=   0.6s\n",
      "[CV] kernel=sigmoid, C=10 ............................................\n",
      "[CV] ............................. kernel=sigmoid, C=10, total=   0.3s\n",
      "[CV] kernel=linear, C=10 .............................................\n",
      "[CV] ............................. kernel=sigmoid, C=10, total=   0.3s\n",
      "[CV] kernel=linear, C=10 .............................................\n",
      "[CV] .............................. kernel=linear, C=10, total=   0.2s\n",
      "[CV] kernel=linear, C=10 .............................................\n",
      "[CV] .............................. kernel=linear, C=10, total=   0.2s\n",
      "[CV] kernel=rbf, C=15 ................................................\n",
      "[CV] .............................. kernel=linear, C=10, total=   0.2s\n",
      "[CV] kernel=rbf, C=15 ................................................\n",
      "[CV] ................................. kernel=rbf, C=15, total=   0.2s\n",
      "[CV] kernel=rbf, C=15 ................................................\n",
      "[CV] ................................. kernel=rbf, C=15, total=   0.2s\n",
      "[CV] kernel=poly, C=15 ...............................................\n",
      "[CV] ................................. kernel=rbf, C=15, total=   0.2s\n",
      "[CV] kernel=poly, C=15 ...............................................\n",
      "[CV] ................................ kernel=poly, C=15, total=   0.4s\n",
      "[CV] kernel=poly, C=15 ...............................................\n",
      "[CV] ................................ kernel=poly, C=15, total=   0.4s\n",
      "[CV] kernel=sigmoid, C=15 ............................................\n",
      "[CV] ............................. kernel=sigmoid, C=15, total=   0.3s\n",
      "[CV] kernel=sigmoid, C=15 ............................................\n",
      "[CV] ................................ kernel=poly, C=15, total=   0.5s\n",
      "[CV] kernel=sigmoid, C=15 ............................................\n",
      "[CV] ............................. kernel=sigmoid, C=15, total=   0.3s\n",
      "[CV] kernel=linear, C=15 .............................................\n",
      "[CV] ............................. kernel=sigmoid, C=15, total=   0.2s\n",
      "[CV] kernel=linear, C=15 .............................................\n",
      "[CV] .............................. kernel=linear, C=15, total=   0.2s\n",
      "[CV] kernel=linear, C=15 .............................................\n",
      "[CV] .............................. kernel=linear, C=15, total=   0.2s\n",
      "[CV] .............................. kernel=linear, C=15, total=   0.2s\n"
     ]
    },
    {
     "name": "stderr",
     "output_type": "stream",
     "text": [
      "[Parallel(n_jobs=2)]: Done  60 out of  60 | elapsed:   28.4s finished\n"
     ]
    },
    {
     "name": "stdout",
     "output_type": "stream",
     "text": [
      "SVC(C=15, cache_size=200, class_weight=None, coef0=0.0,\n",
      "  decision_function_shape=None, degree=3, gamma='auto', kernel='rbf',\n",
      "  max_iter=-1, probability=False, random_state=None, shrinking=True,\n",
      "  tol=0.001, verbose=False)\n"
     ]
    }
   ],
   "source": [
    "#%%notify\n",
    "\n",
    "params = {\n",
    "    'kernel' : ['rbf', 'poly', 'sigmoid', 'linear'],\n",
    "    'C' : [0.1, 1, 5, 10, 15],\n",
    "}\n",
    "clf = GridSearchCV(SVC(), params, n_jobs=2, verbose=2)\n",
    "clf.fit(X_train[:10000], y_train[:10000])\n",
    "\n",
    "print (clf.best_estimator_)\n",
    "clf = clf.best_estimator_\n",
    "\n",
    "predict = clf.predict(X_test)"
   ]
  },
  {
   "cell_type": "code",
   "execution_count": 9,
   "metadata": {},
   "outputs": [
    {
     "name": "stdout",
     "output_type": "stream",
     "text": [
      "             precision    recall  f1-score   support\n",
      "\n",
      "     normal     0.9933    0.9993    0.9963    625708\n",
      "    probing     0.9842    0.8048    0.8855     10619\n",
      "        dos     0.9973    0.9921    0.9947    190582\n",
      "        u2r     0.0000    0.0000    0.0000        42\n",
      "        r2l     0.0000    0.0000    0.0000       785\n",
      "\n",
      "avg / total     0.9931    0.9941    0.5753    827736\n",
      "\n"
     ]
    }
   ],
   "source": [
    "print (classification_report(y_test, predict, digits=4, target_names=target_names))"
   ]
  },
  {
   "cell_type": "code",
   "execution_count": 10,
   "metadata": {},
   "outputs": [],
   "source": [
    "from sklearn.ensemble import RandomForestClassifier"
   ]
  },
  {
   "cell_type": "code",
   "execution_count": 11,
   "metadata": {},
   "outputs": [
    {
     "name": "stdout",
     "output_type": "stream",
     "text": [
      "Fitting 3 folds for each of 20 candidates, totalling 60 fits\n",
      "[CV] n_estimators=10, max_depth=10 ...................................\n",
      "[CV] n_estimators=10, max_depth=10 ...................................\n",
      "[CV] .................... n_estimators=10, max_depth=10, total=   1.9s\n",
      "[CV] n_estimators=10, max_depth=10 ...................................\n",
      "[CV] .................... n_estimators=10, max_depth=10, total=   2.0s\n",
      "[CV] n_estimators=25, max_depth=10 ...................................\n",
      "[CV] .................... n_estimators=10, max_depth=10, total=   2.9s\n",
      "[CV] n_estimators=25, max_depth=10 ...................................\n",
      "[CV] .................... n_estimators=25, max_depth=10, total=   5.2s\n",
      "[CV] n_estimators=25, max_depth=10 ...................................\n",
      "[CV] .................... n_estimators=25, max_depth=10, total=   4.9s\n",
      "[CV] n_estimators=50, max_depth=10 ...................................\n",
      "[CV] .................... n_estimators=25, max_depth=10, total=   6.2s\n",
      "[CV] n_estimators=50, max_depth=10 ...................................\n",
      "[CV] .................... n_estimators=50, max_depth=10, total=  12.6s\n",
      "[CV] n_estimators=50, max_depth=10 ...................................\n",
      "[CV] .................... n_estimators=50, max_depth=10, total=  11.9s\n",
      "[CV] n_estimators=100, max_depth=10 ..................................\n",
      "[CV] .................... n_estimators=50, max_depth=10, total=  10.0s\n",
      "[CV] n_estimators=100, max_depth=10 ..................................\n",
      "[CV] ................... n_estimators=100, max_depth=10, total=  22.5s\n",
      "[CV] ................... n_estimators=100, max_depth=10, total=  30.3s\n",
      "[CV] n_estimators=10, max_depth=25 ...................................\n",
      "[CV] n_estimators=100, max_depth=10 ..................................\n",
      "[CV] .................... n_estimators=10, max_depth=25, total=   4.0s\n",
      "[CV] n_estimators=10, max_depth=25 ...................................\n",
      "[CV] .................... n_estimators=10, max_depth=25, total=   2.5s\n",
      "[CV] n_estimators=10, max_depth=25 ...................................\n",
      "[CV] .................... n_estimators=10, max_depth=25, total=   2.3s\n",
      "[CV] n_estimators=25, max_depth=25 ...................................\n",
      "[CV] .................... n_estimators=25, max_depth=25, total=   5.5s\n",
      "[CV] n_estimators=25, max_depth=25 ...................................\n",
      "[CV] .................... n_estimators=25, max_depth=25, total=   5.7s\n",
      "[CV] n_estimators=25, max_depth=25 ...................................\n",
      "[CV] ................... n_estimators=100, max_depth=10, total=  20.2s\n",
      "[CV] n_estimators=50, max_depth=25 ...................................\n",
      "[CV] .................... n_estimators=25, max_depth=25, total=   5.7s\n",
      "[CV] n_estimators=50, max_depth=25 ...................................\n",
      "[CV] .................... n_estimators=50, max_depth=25, total=  10.4s\n",
      "[CV] n_estimators=50, max_depth=25 ...................................\n",
      "[CV] .................... n_estimators=50, max_depth=25, total=  11.2s\n",
      "[CV] n_estimators=100, max_depth=25 ..................................\n",
      "[CV] .................... n_estimators=50, max_depth=25, total=  11.4s\n",
      "[CV] n_estimators=100, max_depth=25 ..................................\n",
      "[CV] ................... n_estimators=100, max_depth=25, total=  22.0s\n",
      "[CV] n_estimators=100, max_depth=25 ..................................\n",
      "[CV] ................... n_estimators=100, max_depth=25, total=  22.8s\n",
      "[CV] n_estimators=10, max_depth=50 ...................................\n",
      "[CV] .................... n_estimators=10, max_depth=50, total=   2.2s\n",
      "[CV] n_estimators=10, max_depth=50 ...................................\n",
      "[CV] .................... n_estimators=10, max_depth=50, total=   2.7s\n",
      "[CV] n_estimators=10, max_depth=50 ...................................\n",
      "[CV] .................... n_estimators=10, max_depth=50, total=   2.7s\n",
      "[CV] n_estimators=25, max_depth=50 ...................................\n",
      "[CV] .................... n_estimators=25, max_depth=50, total=   6.4s\n",
      "[CV] n_estimators=25, max_depth=50 ...................................\n",
      "[CV] ................... n_estimators=100, max_depth=25, total=  25.1s\n",
      "[CV] n_estimators=25, max_depth=50 ...................................\n",
      "[CV] .................... n_estimators=25, max_depth=50, total=   6.5s\n",
      "[CV] n_estimators=50, max_depth=50 ...................................\n",
      "[CV] .................... n_estimators=25, max_depth=50, total=   6.1s\n",
      "[CV] n_estimators=50, max_depth=50 ...................................\n",
      "[CV] .................... n_estimators=50, max_depth=50, total=  11.2s\n",
      "[CV] n_estimators=50, max_depth=50 ...................................\n",
      "[CV] .................... n_estimators=50, max_depth=50, total=  11.3s\n",
      "[CV] n_estimators=100, max_depth=50 ..................................\n",
      "[CV] .................... n_estimators=50, max_depth=50, total=  12.0s\n",
      "[CV] n_estimators=100, max_depth=50 ..................................\n",
      "[CV] ................... n_estimators=100, max_depth=50, total=  22.9s\n",
      "[CV] n_estimators=100, max_depth=50 ..................................\n",
      "[CV] ................... n_estimators=100, max_depth=50, total=  23.5s\n",
      "[CV] n_estimators=10, max_depth=100 ..................................\n",
      "[CV] ................... n_estimators=10, max_depth=100, total=   2.3s\n",
      "[CV] n_estimators=10, max_depth=100 ..................................\n",
      "[CV] ................... n_estimators=10, max_depth=100, total=   2.3s\n",
      "[CV] n_estimators=10, max_depth=100 ..................................\n"
     ]
    },
    {
     "name": "stderr",
     "output_type": "stream",
     "text": [
      "[Parallel(n_jobs=2)]: Done  37 tasks      | elapsed:  3.7min\n"
     ]
    },
    {
     "name": "stdout",
     "output_type": "stream",
     "text": [
      "[CV] ................... n_estimators=10, max_depth=100, total=   2.4s\n",
      "[CV] n_estimators=25, max_depth=100 ..................................\n",
      "[CV] ................... n_estimators=25, max_depth=100, total=   5.7s\n",
      "[CV] n_estimators=25, max_depth=100 ..................................\n",
      "[CV] ................... n_estimators=100, max_depth=50, total=  22.5s\n",
      "[CV] n_estimators=25, max_depth=100 ..................................\n",
      "[CV] ................... n_estimators=25, max_depth=100, total=   6.8s\n",
      "[CV] n_estimators=50, max_depth=100 ..................................\n",
      "[CV] ................... n_estimators=25, max_depth=100, total=   5.4s\n",
      "[CV] n_estimators=50, max_depth=100 ..................................\n",
      "[CV] ................... n_estimators=50, max_depth=100, total=  12.3s\n",
      "[CV] n_estimators=50, max_depth=100 ..................................\n",
      "[CV] ................... n_estimators=50, max_depth=100, total=  12.9s\n",
      "[CV] n_estimators=100, max_depth=100 .................................\n",
      "[CV] ................... n_estimators=50, max_depth=100, total=  13.2s\n",
      "[CV] n_estimators=100, max_depth=100 .................................\n",
      "[CV] .................. n_estimators=100, max_depth=100, total=  24.8s\n",
      "[CV] n_estimators=100, max_depth=100 .................................\n",
      "[CV] .................. n_estimators=100, max_depth=100, total=  23.6s\n",
      "[CV] n_estimators=10, max_depth=None .................................\n",
      "[CV] .................. n_estimators=10, max_depth=None, total=   2.3s\n",
      "[CV] n_estimators=10, max_depth=None .................................\n",
      "[CV] .................. n_estimators=10, max_depth=None, total=   3.0s\n",
      "[CV] n_estimators=10, max_depth=None .................................\n",
      "[CV] .................. n_estimators=10, max_depth=None, total=   2.8s\n",
      "[CV] n_estimators=25, max_depth=None .................................\n",
      "[CV] .................. n_estimators=100, max_depth=100, total=  25.0s\n",
      "[CV] n_estimators=25, max_depth=None .................................\n",
      "[CV] .................. n_estimators=25, max_depth=None, total=   6.0s\n",
      "[CV] n_estimators=25, max_depth=None .................................\n",
      "[CV] .................. n_estimators=25, max_depth=None, total=   6.0s\n",
      "[CV] n_estimators=50, max_depth=None .................................\n",
      "[CV] .................. n_estimators=25, max_depth=None, total=   8.0s\n",
      "[CV] n_estimators=50, max_depth=None .................................\n",
      "[CV] .................. n_estimators=50, max_depth=None, total=  10.8s\n",
      "[CV] n_estimators=50, max_depth=None .................................\n",
      "[CV] .................. n_estimators=50, max_depth=None, total=  11.5s\n",
      "[CV] n_estimators=100, max_depth=None ................................\n",
      "[CV] .................. n_estimators=50, max_depth=None, total=  11.1s\n",
      "[CV] n_estimators=100, max_depth=None ................................\n",
      "[CV] ................. n_estimators=100, max_depth=None, total=  22.4s\n",
      "[CV] n_estimators=100, max_depth=None ................................\n",
      "[CV] ................. n_estimators=100, max_depth=None, total=  23.5s\n",
      "[CV] ................. n_estimators=100, max_depth=None, total=  23.2s\n"
     ]
    },
    {
     "name": "stderr",
     "output_type": "stream",
     "text": [
      "[Parallel(n_jobs=2)]: Done  60 out of  60 | elapsed:  6.5min finished\n"
     ]
    },
    {
     "name": "stdout",
     "output_type": "stream",
     "text": [
      "RandomForestClassifier(bootstrap=True, class_weight=None, criterion='gini',\n",
      "            max_depth=50, max_features='auto', max_leaf_nodes=None,\n",
      "            min_impurity_split=1e-07, min_samples_leaf=1,\n",
      "            min_samples_split=2, min_weight_fraction_leaf=0.0,\n",
      "            n_estimators=50, n_jobs=1, oob_score=False, random_state=None,\n",
      "            verbose=0, warm_start=False)\n",
      "             precision    recall  f1-score   support\n",
      "\n",
      "     normal     0.9982    0.9998    0.9990    625708\n",
      "    probing     0.9937    0.9877    0.9906     10619\n",
      "        dos     1.0000    0.9967    0.9983    190582\n",
      "        u2r     1.0000    0.1190    0.2128        42\n",
      "        r2l     0.9343    0.5796    0.7154       785\n",
      "\n",
      "avg / total     0.9985    0.9985    0.7832    827736\n",
      "\n"
     ]
    }
   ],
   "source": [
    "params = {\n",
    "    'n_estimators' : [10,25,50,100],\n",
    "    'max_depth' : [10,25,50,100,None],\n",
    "}\n",
    "\n",
    "clf = GridSearchCV(RandomForestClassifier(), params, n_jobs=2, verbose=2)\n",
    "clf.fit(X_train, y_train)\n",
    "\n",
    "print (clf.best_estimator_)\n",
    "clf = clf.best_estimator_\n",
    "\n",
    "\n",
    "predict = clf.predict(X_test)\n",
    "\n"
   ]
  },
  {
   "cell_type": "code",
   "execution_count": null,
   "metadata": {},
   "outputs": [],
   "source": [
    "print (classification_report(y_test, predict, digits=4, target_names=target_names))"
   ]
  },
  {
   "cell_type": "code",
   "execution_count": 12,
   "metadata": {},
   "outputs": [],
   "source": [
    "from sklearn.ensemble import AdaBoostClassifier"
   ]
  },
  {
   "cell_type": "code",
   "execution_count": null,
   "metadata": {},
   "outputs": [],
   "source": [
    "%%notify\n",
    "\n",
    "params = {\n",
    "    'n_estimators' : [50,100,200,300],\n",
    "    'learning_rate' : [1,2,0.5,.1],\n",
    "}\n",
    "\n",
    "clf = GridSearchCV(AdaBoostClassifier(), params, n_jobs=2, verbose=2)\n",
    "clf.fit(X_train, y_train)\n",
    "\n",
    "print (clf.best_estimator_)\n",
    "clf = clf.best_estimator_\n",
    "\n",
    "predict = clf.predict(X_test)\n"
   ]
  },
  {
   "cell_type": "code",
   "execution_count": null,
   "metadata": {},
   "outputs": [],
   "source": [
    "print (classification_report(y_test, predict, digits=4, target_names=target_names))"
   ]
  },
  {
   "cell_type": "code",
   "execution_count": 15,
   "metadata": {},
   "outputs": [],
   "source": [
    "from sklearn.neighbors import KNeighborsClassifier"
   ]
  },
  {
   "cell_type": "code",
   "execution_count": 16,
   "metadata": {},
   "outputs": [
    {
     "data": {
      "application/javascript": [
       "$(document).ready(\n",
       "    function() {\n",
       "        function appendUniqueDiv(){\n",
       "            // append a div with our uuid so we can check that it's already\n",
       "            // been sent and avoid duplicates on page reload\n",
       "            var notifiedDiv = document.createElement(\"div\")\n",
       "            notifiedDiv.id = \"b1d4627f-6a8d-464f-bff4-06c6f7e56c3e\"\n",
       "            element.append(notifiedDiv)\n",
       "        }\n",
       "\n",
       "        // only send notifications if the pageload is complete; this will\n",
       "        // help stop extra notifications when a saved notebook is loaded,\n",
       "        // which during testing gives us state \"interactive\", not \"complete\"\n",
       "        if (document.readyState === 'complete') {\n",
       "            // check for the div that signifies that the notification\n",
       "            // was already sent\n",
       "            if (document.getElementById(\"b1d4627f-6a8d-464f-bff4-06c6f7e56c3e\") === null) {\n",
       "                var notificationPayload = {\"body\": \"Cell execution has finished!\", \"requireInteraction\": false, \"icon\": \"/static/base/images/favicon.ico\"};\n",
       "                if (Notification.permission !== 'denied') {\n",
       "                    if (Notification.permission !== 'granted') { \n",
       "                        Notification.requestPermission(function (permission) {\n",
       "                            if(!('permission' in Notification)) {\n",
       "                                Notification.permission = permission\n",
       "                            }\n",
       "                        })\n",
       "                    }\n",
       "                    if (Notification.permission === 'granted') {\n",
       "                    var notification = new Notification(\"Jupyter Notebook\", notificationPayload)\n",
       "                    appendUniqueDiv()\n",
       "                    notification.onclick = function () {\n",
       "                        window.focus();\n",
       "                        this.close();\n",
       "                        };\n",
       "                    } \n",
       "                }     \n",
       "            }\n",
       "        }\n",
       "    }\n",
       ")\n"
      ],
      "text/plain": [
       "<IPython.core.display.Javascript object>"
      ]
     },
     "metadata": {},
     "output_type": "display_data"
    }
   ],
   "source": [
    "%%notify\n",
    "\n",
    "clf = KNeighborsClassifier(n_neighbors=len(np.unique(y_train)))\n",
    "clf.fit(X_train[:20000], y_train[:20000])\n",
    "\n",
    "\n",
    "predict = clf.predict(X_test)\n"
   ]
  },
  {
   "cell_type": "code",
   "execution_count": 17,
   "metadata": {},
   "outputs": [
    {
     "name": "stdout",
     "output_type": "stream",
     "text": [
      "             precision    recall  f1-score   support\n",
      "\n",
      "     normal     0.9965    0.9992    0.9979    625708\n",
      "    probing     0.9752    0.9216    0.9476     10619\n",
      "        dos     0.9983    0.9944    0.9963    190582\n",
      "        u2r     0.0000    0.0000    0.0000        42\n",
      "        r2l     0.7694    0.4675    0.5816       785\n",
      "\n",
      "avg / total     0.9964    0.9965    0.7047    827736\n",
      "\n"
     ]
    }
   ],
   "source": [
    "print (classification_report(y_test, predict, digits=4, target_names=target_names))"
   ]
  }
 ],
 "metadata": {
  "anaconda-cloud": {},
  "kernelspec": {
   "display_name": "Python 2",
   "language": "python",
   "name": "python2"
  },
  "language_info": {
   "codemirror_mode": {
    "name": "ipython",
    "version": 2
   },
   "file_extension": ".py",
   "mimetype": "text/x-python",
   "name": "python",
   "nbconvert_exporter": "python",
   "pygments_lexer": "ipython2",
   "version": "2.7.12"
  }
 },
 "nbformat": 4,
 "nbformat_minor": 2
}
