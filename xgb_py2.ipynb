{
 "cells": [
  {
   "cell_type": "code",
   "execution_count": 10,
   "metadata": {},
   "outputs": [],
   "source": [
    "import pandas as pd\n",
    "\n",
    "X_test = pd.read_csv('X_train.csv', header=0, index_col=0)\n",
    "X_train = pd.read_csv(\"X_test.csv\", header=0, index_col=0)\n",
    "y_train = pd.Series.from_csv(\"y_test.csv\", header=None, index_col=0)\n",
    "y_test = pd.Series.from_csv('y_train.csv', header=None, index_col=0)"
   ]
  },
  {
   "cell_type": "code",
   "execution_count": 11,
   "metadata": {},
   "outputs": [],
   "source": [
    "from xgboost import XGBClassifier\n",
    "from sklearn.model_selection import GridSearchCV\n",
    "from sklearn.metrics import make_scorer\n",
    "from sklearn.metrics import f1_score, accuracy_score, classification_report"
   ]
  },
  {
   "cell_type": "code",
   "execution_count": 5,
   "metadata": {},
   "outputs": [],
   "source": [
    "f1 = make_scorer(f1_score, 'macro')"
   ]
  },
  {
   "cell_type": "code",
   "execution_count": 9,
   "metadata": {},
   "outputs": [
    {
     "name": "stdout",
     "output_type": "stream",
     "text": [
      "Fitting 3 folds for each of 108 candidates, totalling 324 fits\n"
     ]
    },
    {
     "name": "stderr",
     "output_type": "stream",
     "text": [
      "[Parallel(n_jobs=1)]: Done 324 out of 324 | elapsed:  1.0min finished\n"
     ]
    },
    {
     "name": "stdout",
     "output_type": "stream",
     "text": [
      "XGBClassifier(base_score=0.5, colsample_bylevel=1, colsample_bytree=1,\n",
      "       gamma=0, learning_rate=0.05, max_delta_step=0, max_depth=5,\n",
      "       min_child_weight=1, missing=None, n_estimators=150, nthread=-1,\n",
      "       objective='multi:softprob', reg_alpha=0, reg_lambda=2,\n",
      "       scale_pos_weight=1, seed=0, silent=True, subsample=1)\n"
     ]
    },
    {
     "name": "stderr",
     "output_type": "stream",
     "text": [
      "/usr/local/lib/python2.7/dist-packages/sklearn/metrics/classification.py:1113: UndefinedMetricWarning: F-score is ill-defined and being set to 0.0 in labels with no predicted samples.\n",
      "  'precision', 'predicted', average, warn_for)\n"
     ]
    },
    {
     "name": "stdout",
     "output_type": "stream",
     "text": [
      "0.571944558193\n",
      "0.99332033402\n",
      "0.572012661964\n",
      "0.993439758622\n"
     ]
    },
    {
     "data": {
      "application/javascript": [
       "$(document).ready(\n",
       "    function() {\n",
       "        function appendUniqueDiv(){\n",
       "            // append a div with our uuid so we can check that it's already\n",
       "            // been sent and avoid duplicates on page reload\n",
       "            var notifiedDiv = document.createElement(\"div\")\n",
       "            notifiedDiv.id = \"3486eb50-7912-45aa-bbd2-08d46d639f5e\"\n",
       "            element.append(notifiedDiv)\n",
       "        }\n",
       "\n",
       "        // only send notifications if the pageload is complete; this will\n",
       "        // help stop extra notifications when a saved notebook is loaded,\n",
       "        // which during testing gives us state \"interactive\", not \"complete\"\n",
       "        if (document.readyState === 'complete') {\n",
       "            // check for the div that signifies that the notification\n",
       "            // was already sent\n",
       "            if (document.getElementById(\"3486eb50-7912-45aa-bbd2-08d46d639f5e\") === null) {\n",
       "                var notificationPayload = {\"body\": \"Cell execution has finished!\", \"requireInteraction\": false, \"icon\": \"/static/base/images/favicon.ico\"};\n",
       "                if (Notification.permission !== 'denied') {\n",
       "                    if (Notification.permission !== 'granted') { \n",
       "                        Notification.requestPermission(function (permission) {\n",
       "                            if(!('permission' in Notification)) {\n",
       "                                Notification.permission = permission\n",
       "                            }\n",
       "                        })\n",
       "                    }\n",
       "                    if (Notification.permission === 'granted') {\n",
       "                    var notification = new Notification(\"Jupyter Notebook\", notificationPayload)\n",
       "                    appendUniqueDiv()\n",
       "                    notification.onclick = function () {\n",
       "                        window.focus();\n",
       "                        this.close();\n",
       "                        };\n",
       "                    } \n",
       "                }     \n",
       "            }\n",
       "        }\n",
       "    }\n",
       ")\n"
      ],
      "text/plain": [
       "<IPython.core.display.Javascript object>"
      ]
     },
     "metadata": {},
     "output_type": "display_data"
    }
   ],
   "source": [
    "%%notify\n",
    "\n",
    "params = {\n",
    "    'max_depth' : [3,5,10],\n",
    "    'learning_rate' : [0.01,.05,.1],\n",
    "    'n_estimators' :[100,150,200],\n",
    "    'gamma' : [0,0.1],\n",
    "    'reg_lambda' : [1,2]\n",
    "}\n",
    "\n",
    "clf = GridSearchCV(XGBClassifier(), params, verbose=1)\n",
    "clf.fit(X_train[:1000], y_train[:1000])\n",
    "\n",
    "print (clf.best_estimator_)\n",
    "clf = clf.best_estimator_\n",
    "\n",
    "print (f1_score(y_train, clf.predict(X_train),labels=[0,1,2,3,4], average='macro'))\n",
    "print (accuracy_score(y_train, clf.predict(X_train)))\n",
    "print (f1_score(y_test, clf.predict(X_test), labels=[0,1,2,3,4], average='macro'))\n",
    "print (accuracy_score(y_test, clf.predict(X_test)))"
   ]
  },
  {
   "cell_type": "code",
   "execution_count": 12,
   "metadata": {},
   "outputs": [
    {
     "name": "stdout",
     "output_type": "stream",
     "text": [
      "             precision    recall  f1-score   support\n",
      "\n",
      "          0       1.00      1.00      1.00    625708\n",
      "          1       1.00      0.99      0.99     10619\n",
      "          2       1.00      1.00      1.00    190582\n",
      "          3       0.64      0.21      0.32        42\n",
      "          4       0.99      0.47      0.64       785\n",
      "\n",
      "avg / total       1.00      1.00      1.00    827736\n",
      "\n"
     ]
    }
   ],
   "source": [
    "clf = XGBClassifier(max_depth=5, learning_rate=0.05, n_estimators=150, gamma=0, reg_lambda=2)\n",
    "clf.fit(X_train,y_train)\n",
    "\n",
    "predict = clf.predict(X_test)\n",
    "\n",
    "\n",
    "print classification_report(y_test, predict, digits=2)"
   ]
  },
  {
   "cell_type": "code",
   "execution_count": 19,
   "metadata": {},
   "outputs": [
    {
     "name": "stdout",
     "output_type": "stream",
     "text": [
      "             precision    recall  f1-score   support\n",
      "\n",
      "     normal     0.9990    0.9999    0.9995    625708\n",
      "    probing     0.9964    0.9899    0.9932     10619\n",
      "        dos     0.9999    0.9996    0.9997    190582\n",
      "        u2r     0.6429    0.2143    0.3214        42\n",
      "        r2l     0.9946    0.4701    0.6384       785\n",
      "\n",
      "avg / total     0.9992    0.9992    0.9991    827736\n",
      "\n"
     ]
    }
   ],
   "source": [
    "target_names = ['normal', 'probing', 'dos','u2r' ,'r2l']\n",
    "print classification_report(y_test, predict, digits=4, target_names=target_names)"
   ]
  }
 ],
 "metadata": {
  "anaconda-cloud": {},
  "kernelspec": {
   "display_name": "Python 2",
   "language": "python",
   "name": "python2"
  },
  "language_info": {
   "codemirror_mode": {
    "name": "ipython",
    "version": 2
   },
   "file_extension": ".py",
   "mimetype": "text/x-python",
   "name": "python",
   "nbconvert_exporter": "python",
   "pygments_lexer": "ipython2",
   "version": "2.7.12"
  }
 },
 "nbformat": 4,
 "nbformat_minor": 2
}
